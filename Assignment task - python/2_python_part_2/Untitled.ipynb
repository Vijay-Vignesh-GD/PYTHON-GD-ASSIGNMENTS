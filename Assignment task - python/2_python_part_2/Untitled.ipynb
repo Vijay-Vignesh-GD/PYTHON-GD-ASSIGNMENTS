{
 "cells": [
  {
   "cell_type": "code",
   "execution_count": 16,
   "id": "efff2884-8b01-4081-881c-bf77bae738c9",
   "metadata": {},
   "outputs": [],
   "source": [
    "import os\n",
    "\n",
    "\n",
    "def read_files_and_write_result(directory: str, output_file: str):\n",
    "    values = []\n",
    "    \n",
    "    \n",
    "    for filename in os.listdir(directory):\n",
    "        file_path = os.path.join(directory, filename)\n",
    "        if os.path.isfile(file_path):\n",
    "            with open(file_path, 'r', encoding='utf-8') as file:\n",
    "                content = file.read().strip()\n",
    "                if content:\n",
    "                    values.append(content)\n",
    "                    \n",
    "    write_to_file(output_file, values, 'utf-8')\n",
    "                    \n",
    "def write_to_file(file_path, content, encoding):\n",
    "    with open(output_file, 'w', encoding='utf-8') as result_file:\n",
    "        result_file.write(', '.join(values))\n",
    "\n",
    "\n",
    "if __name__ == \"__main__\":\n",
    "    directory = '/Users/vganesan/Documents/PYTHON/PYTHON-BASIC/practice/python_part_2/files'\n",
    "    output_file = 'result2.txt'\n",
    "    read_files_and_write_result(directory, output_file)\n"
   ]
  },
  {
   "cell_type": "code",
   "execution_count": 11,
   "id": "0c72005c-1999-4d58-ba71-4706329878d5",
   "metadata": {},
   "outputs": [
    {
     "name": "stdout",
     "output_type": "stream",
     "text": [
      "Values written to result.txt\n"
     ]
    }
   ],
   "source": [
    "import os\n",
    "def extract_values_and_write():\n",
    "    directory = '/Users/vganesan/Documents/PYTHON/PYTHON-BASIC/practice/python_part_2/files'\n",
    "    output_file = 'result.txt'\n",
    "    values = []\n",
    "    for filename in os.listdir(directory):\n",
    "        file_path = os.path.join(directory, filename)\n",
    "        if os.path.isfile(file_path):\n",
    "            with open(file_path, 'r') as f:\n",
    "                content = f.read().strip()\n",
    "                values.append(content)\n",
    "    with open(output_file, 'w') as output:\n",
    "        output.write(', '.join(values))\n",
    "    print(f\"Values written to {output_file}\")\n",
    "extract_values_and_write()"
   ]
  },
  {
   "cell_type": "code",
   "execution_count": 5,
   "id": "5fe55c6d-fa61-42da-b3a1-2c300d799bce",
   "metadata": {},
   "outputs": [
    {
     "data": {
      "text/plain": [
       "'/Users/vganesan/Documents/PYTHON/PYTHON-BASIC/practice/python_part_2'"
      ]
     },
     "execution_count": 5,
     "metadata": {},
     "output_type": "execute_result"
    }
   ],
   "source": [
    "pwd"
   ]
  },
  {
   "cell_type": "code",
   "execution_count": 2,
   "id": "8153161c-6759-4759-a4d7-95f45ece6fe7",
   "metadata": {},
   "outputs": [
    {
     "name": "stdout",
     "output_type": "stream",
     "text": [
      "files/file_7.txt\n",
      "files/file_6.txt\n",
      "files/file_4.txt\n",
      "files/file_18.txt\n",
      "files/file_19.txt\n",
      "files/file_5.txt\n",
      "files/file_1.txt\n",
      "files/file_20.txt\n",
      "files/file_2.txt\n",
      "files/file_3.txt\n",
      "files/file_12.txt\n",
      "files/file_13.txt\n",
      "files/file_11.txt\n",
      "files/file_10.txt\n",
      "files/file_8.txt\n",
      "files/file_14.txt\n",
      "files/file_15.txt\n",
      "files/file_9.txt\n",
      "files/file_17.txt\n",
      "files/file_16.txt\n"
     ]
    }
   ],
   "source": [
    "import os\n",
    "\n",
    "def read_files_and_write_result(directory: str, output_file: str):\n",
    "    values = []\n",
    "    \n",
    "    for filename in os.listdir(directory):\n",
    "        file_path = os.path.join(directory, filename)\n",
    "        print(file_path)\n",
    "        if os.path.isfile(file_path):\n",
    "            with open(file_path, 'r', encoding='utf-8') as file:\n",
    "                content = file.read().strip()\n",
    "                if content:\n",
    "                    values.append(content)\n",
    "                    \n",
    "\n",
    "    with open(output_file, 'w', encoding='utf-8') as result_file:\n",
    "        result_file.write(', '.join(values)) \n",
    "\n",
    "if __name__ == \"__main__\":\n",
    "    directory = 'files'\n",
    "    output_file = 'result.txt'\n",
    "    read_files_and_write_result(directory, output_file)\n"
   ]
  },
  {
   "cell_type": "code",
   "execution_count": null,
   "id": "e51535a3-b8a3-485d-a3a7-c563e44ca7c3",
   "metadata": {},
   "outputs": [],
   "source": []
  }
 ],
 "metadata": {
  "kernelspec": {
   "display_name": "Python 3 (ipykernel)",
   "language": "python",
   "name": "python3"
  },
  "language_info": {
   "codemirror_mode": {
    "name": "ipython",
    "version": 3
   },
   "file_extension": ".py",
   "mimetype": "text/x-python",
   "name": "python",
   "nbconvert_exporter": "python",
   "pygments_lexer": "ipython3",
   "version": "3.12.6"
  }
 },
 "nbformat": 4,
 "nbformat_minor": 5
}
