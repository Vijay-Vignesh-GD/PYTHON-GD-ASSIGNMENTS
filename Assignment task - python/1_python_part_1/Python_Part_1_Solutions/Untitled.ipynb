{
 "cells": [
  {
   "cell_type": "code",
   "execution_count": 10,
   "id": "8802a2bd-8417-4958-9221-e0e31d6119f4",
   "metadata": {},
   "outputs": [
    {
     "data": {
      "text/plain": [
       "(-2, 34)"
      ]
     },
     "execution_count": 10,
     "metadata": {},
     "output_type": "execute_result"
    }
   ],
   "source": [
    "\"\"\"\n",
    "Write function which receives filename and reads file line by line and returns min and mix integer from file.\n",
    "Restriction: filename always valid, each line of file contains valid integer value\n",
    "Examples:\n",
    "    # file contains following lines:\n",
    "        10\n",
    "        -2\n",
    "        0\n",
    "        34\n",
    "    >>> get_min_max('filename')\n",
    "    (-2, 34)\n",
    "\n",
    "Hint:\n",
    "To read file line-by-line you can use this:\n",
    "with open(filename) as opened_file:\n",
    "    for line in opened_file:\n",
    "        ...\n",
    "\"\"\"\n",
    "from typing import Tuple\n",
    "\n",
    "\n",
    "def get_min_max(filename: str) -> Tuple[int, int]:\n",
    "    file = open('filename.txt','r')\n",
    "    minnum = float('inf')\n",
    "    maxnum = float('-inf')\n",
    "    for line in file:\n",
    "        num = int(line.strip())\n",
    "        minnum = min(minnum,num)\n",
    "        maxnum = max(maxnum,num)\n",
    "\n",
    "    \n",
    "\n",
    "    return (minnum, maxnum)\n",
    "    \n",
    "        # print(type(num))\n",
    "\n",
    "get_min_max('filename.txt')\n",
    "\n"
   ]
  },
  {
   "cell_type": "code",
   "execution_count": null,
   "id": "a1257578-d713-4906-ad4e-175e005a2d53",
   "metadata": {},
   "outputs": [],
   "source": []
  }
 ],
 "metadata": {
  "kernelspec": {
   "display_name": "Python 3 (ipykernel)",
   "language": "python",
   "name": "python3"
  },
  "language_info": {
   "codemirror_mode": {
    "name": "ipython",
    "version": 3
   },
   "file_extension": ".py",
   "mimetype": "text/x-python",
   "name": "python",
   "nbconvert_exporter": "python",
   "pygments_lexer": "ipython3",
   "version": "3.12.6"
  }
 },
 "nbformat": 4,
 "nbformat_minor": 5
}
